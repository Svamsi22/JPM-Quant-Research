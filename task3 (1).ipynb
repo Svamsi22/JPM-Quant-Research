{
  "nbformat": 4,
  "nbformat_minor": 0,
  "metadata": {
    "colab": {
      "provenance": []
    },
    "kernelspec": {
      "name": "python3",
      "display_name": "Python 3"
    },
    "language_info": {
      "name": "python"
    }
  },
  "cells": [
    {
      "cell_type": "code",
      "source": [
        "import pandas as pd\n",
        "import numpy as np\n",
        "from sklearn.model_selection import train_test_split\n",
        "from sklearn.preprocessing import StandardScaler\n",
        "from sklearn.linear_model import LogisticRegression\n",
        "from sklearn.ensemble import RandomForestClassifier\n",
        "\n",
        "# Load the dataset\n",
        "file_path = 'Task 3 and 4_Loan_Data.csv'\n",
        "df = pd.read_csv(file_path)\n",
        "\n",
        "# Data preprocessing\n",
        "X = df.drop(columns=['default', 'customer_id'])  # Features excluding 'default' and 'customer_id'\n",
        "y = df['default']  # Target variable\n",
        "\n",
        "# Split data into training and testing sets (80% train, 20% test)\n",
        "X_train, X_test, y_train, y_test = train_test_split(X, y, test_size=0.2, random_state=42)\n",
        "\n",
        "# Standardize the features\n",
        "scaler = StandardScaler()\n",
        "X_train_scaled = scaler.fit_transform(X_train)\n",
        "X_test_scaled = scaler.transform(X_test)\n",
        "\n",
        "# Train Logistic Regression model\n",
        "log_reg_model = LogisticRegression(random_state=42)\n",
        "log_reg_model.fit(X_train_scaled, y_train)\n",
        "\n",
        "# Train Random Forest model\n",
        "rf_model = RandomForestClassifier(n_estimators=100, random_state=42)\n",
        "rf_model.fit(X_train_scaled, y_train)\n",
        "\n",
        "# Function to predict probability of default\n",
        "def predict_default_probability(model, borrower_details, scaler):\n",
        "    borrower_arr = np.array(borrower_details).reshape(1, -1)\n",
        "    borrower_arr_scaled = scaler.transform(borrower_arr)\n",
        "    prob_default = model.predict_proba(borrower_arr_scaled)[:, 1]\n",
        "    return prob_default[0]\n",
        "\n",
        "# Example usage of the function\n",
        "borrower_details = [0, 5221.545, 3915.471, 78039.39, 5, 605]  # Ensure the order matches the X_train columns\n",
        "log_reg_prob_default = predict_default_probability(log_reg_model, borrower_details, scaler)\n",
        "rf_prob_default = predict_default_probability(rf_model, borrower_details, scaler)\n",
        "\n",
        "print(f\"Estimated probability of default (Logistic Regression): {log_reg_prob_default:.4f}\")\n",
        "print(f\"Estimated probability of default (Random Forest): {rf_prob_default:.4f}\")\n",
        "\n"
      ],
      "metadata": {
        "colab": {
          "base_uri": "https://localhost:8080/"
        },
        "id": "cyBmQXBJpWoV",
        "outputId": "f9e9e703-89fe-4bdb-ec3e-a9faddbb438f"
      },
      "execution_count": 5,
      "outputs": [
        {
          "output_type": "stream",
          "name": "stdout",
          "text": [
            "Estimated probability of default (Logistic Regression): 0.0000\n",
            "Estimated probability of default (Random Forest): 0.0000\n"
          ]
        },
        {
          "output_type": "stream",
          "name": "stderr",
          "text": [
            "/usr/local/lib/python3.10/dist-packages/sklearn/base.py:439: UserWarning: X does not have valid feature names, but StandardScaler was fitted with feature names\n",
            "  warnings.warn(\n",
            "/usr/local/lib/python3.10/dist-packages/sklearn/base.py:439: UserWarning: X does not have valid feature names, but StandardScaler was fitted with feature names\n",
            "  warnings.warn(\n"
          ]
        }
      ]
    }
  ]
}