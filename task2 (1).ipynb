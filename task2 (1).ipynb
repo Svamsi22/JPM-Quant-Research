{
  "nbformat": 4,
  "nbformat_minor": 0,
  "metadata": {
    "colab": {
      "provenance": []
    },
    "kernelspec": {
      "name": "python3",
      "display_name": "Python 3"
    },
    "language_info": {
      "name": "python"
    }
  },
  "cells": [
    {
      "cell_type": "code",
      "execution_count": 3,
      "metadata": {
        "colab": {
          "base_uri": "https://localhost:8080/"
        },
        "id": "IbN6fQDgmKgH",
        "outputId": "d05d2f81-5345-445f-d2a3-f3bd315f91e5"
      },
      "outputs": [
        {
          "output_type": "stream",
          "name": "stdout",
          "text": [
            "The estimated value of the natural gas storage contract is: $920000.00\n"
          ]
        }
      ],
      "source": [
        "\n",
        "\n",
        "\n",
        "\n",
        "import pandas as pd\n",
        "from datetime import datetime\n",
        "\n",
        "# Load the data\n",
        "data = pd.read_csv('Nat_Gas.csv')\n",
        "\n",
        "# Convert to DataFrame\n",
        "df = pd.DataFrame(data)\n",
        "\n",
        "def calculate_contract_value(injection_dates, withdrawal_dates, purchase_prices, sale_prices, injection_rate, max_volume, storage_cost):\n",
        "    total_value = 0.0\n",
        "\n",
        "    # Calculate value for each injection and withdrawal pair\n",
        "    for inj_date, purchase_price in zip(injection_dates, purchase_prices):\n",
        "        for wth_date, sale_price in zip(withdrawal_dates, sale_prices):\n",
        "            # Calculate time difference in months\n",
        "            time_diff_months = (wth_date.year - inj_date.year) * 12 + (wth_date.month - inj_date.month)\n",
        "\n",
        "            # Calculate storage cost\n",
        "            total_storage_cost = storage_cost * time_diff_months\n",
        "\n",
        "            # Calculate total cash flows\n",
        "            cash_flows = (sale_price - purchase_price) * max_volume\n",
        "\n",
        "            # Subtract storage cost from cash flows\n",
        "            contract_value = cash_flows - total_storage_cost\n",
        "\n",
        "            # Add to total value\n",
        "            total_value += contract_value\n",
        "\n",
        "    return total_value\n",
        "\n",
        "# Example usage:\n",
        "injection_dates = [datetime.strptime('2021-05-15', '%Y-%m-%d'), datetime.strptime('2021-06-15', '%Y-%m-%d')]\n",
        "withdrawal_dates = [datetime.strptime('2021-10-15', '%Y-%m-%d'), datetime.strptime('2021-11-15', '%Y-%m-%d')]\n",
        "purchase_prices = [df.loc[df['Dates'] == '5/31/21', 'Prices'].values[0], df.loc[df['Dates'] == '6/30/21', 'Prices'].values[0]]\n",
        "sale_prices = [df.loc[df['Dates'] == '10/31/21', 'Prices'].values[0], df.loc[df['Dates'] == '11/30/21', 'Prices'].values[0]]\n",
        "injection_rate = 1000000  # 1 million MMBtu per month\n",
        "max_volume = 1000000  # 1 million MMBtu\n",
        "storage_cost = 100000  # $100,000 per month\n",
        "\n",
        "value = calculate_contract_value(injection_dates, withdrawal_dates, purchase_prices, sale_prices, injection_rate, max_volume, storage_cost)\n",
        "print(f\"The estimated value of the natural gas storage contract is: ${value:.2f}\")\n",
        "\n"
      ]
    }
  ]
}